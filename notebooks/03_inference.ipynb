{
  "cells": [
    {
      "attachments": {},
      "cell_type": "markdown",
      "metadata": {
        "colab_type": "text",
        "id": "view-in-github"
      },
      "source": [
        "<a href=\"https://colab.research.google.com/github/soumik12345/image-restoration-primer/blob/main/notebooks/03_inference.ipynb\" target=\"_parent\"><img src=\"https://colab.research.google.com/assets/colab-badge.svg\" alt=\"Open In Colab\"/></a>\n",
        "\n",
        "<!--- @wandbcode{tfug-kol} -->"
      ]
    },
    {
      "cell_type": "code",
      "execution_count": null,
      "metadata": {
        "colab": {
          "base_uri": "https://localhost:8080/"
        },
        "id": "9Hd8_dnEzVBj",
        "outputId": "478c8a21-f06c-4bdd-8c6b-c45b8bdae9f7"
      },
      "outputs": [],
      "source": [
        "!pip install -q --upgrade wandb\n",
        "!git clone https://github.com/soumik12345/BLR-ML-Monthly-Meetup"
      ]
    },
    {
      "cell_type": "code",
      "execution_count": null,
      "metadata": {
        "id": "R05BJSaVzNQ1"
      },
      "outputs": [],
      "source": [
        "import tensorflow as tf\n",
        "from tensorflow import keras\n",
        "\n",
        "import os\n",
        "import wandb\n",
        "import numpy as np\n",
        "from PIL import Image\n",
        "from glob import glob\n",
        "from tqdm.notebook import tqdm\n",
        "import matplotlib.pyplot as plt"
      ]
    },
    {
      "cell_type": "code",
      "execution_count": null,
      "metadata": {
        "colab": {
          "base_uri": "https://localhost:8080/",
          "height": 196
        },
        "id": "mxc4XkNgzTaZ",
        "outputId": "eb864a52-6ff9-43b7-9fa6-9c1b6194250c"
      },
      "outputs": [],
      "source": [
        "wandb_project = \"image-dehazing\" #@param {type:\"string\"}\n",
        "wandb_entity = \"geekyrakshit\" #@param {type:\"string\"}\n",
        "wandb.init(\n",
        "    project=wandb_project, entity=wandb_entity, job_type=\"inference\"\n",
        ")\n",
        "\n",
        "model_artifact_address = \"geekyrakshit/image-dehazing/run_39nvjow7_model:latest\" #@param {type:\"string\"}\n",
        "\n",
        "# Fetch model from WandB Model artifact\n",
        "artifact = wandb.use_artifact(model_artifact_address, type=\"model\")\n",
        "model_path = artifact.download()\n",
        "\n",
        "# Load Model\n",
        "model = keras.models.load_model(model_path, compile=False)"
      ]
    },
    {
      "cell_type": "code",
      "execution_count": null,
      "metadata": {
        "id": "RvWfh1h305su"
      },
      "outputs": [],
      "source": [
        "def preprocess_image(image):\n",
        "    \"\"\"Preprocesses the image for inference.\n",
        "\n",
        "    Returns:\n",
        "        A numpy array of shape (1, height, width, 3) preprocessed for inference.\n",
        "    \"\"\"\n",
        "    image = keras.preprocessing.image.img_to_array(image)\n",
        "    image = image.astype(\"float32\") / 255.0\n",
        "    return np.expand_dims(image, axis=0)\n",
        "\n",
        "\n",
        "def postprocess_image(model_output):\n",
        "    \"\"\"Postprocesses the model output for inference.\n",
        "    \n",
        "    Returns:\n",
        "        A list of PIL.Image.Image objects postprocessed for visualization.\n",
        "    \"\"\"\n",
        "    model_output = model_output * 255.0\n",
        "    model_output = model_output.clip(0, 255)\n",
        "    image = model_output[0].reshape(\n",
        "        (np.shape(model_output)[1], np.shape(model_output)[2], 3)\n",
        "    )\n",
        "    return Image.fromarray(np.uint8(image))\n",
        "\n",
        "\n",
        "def plot_results(images, titles, figure_size=(12, 12)):\n",
        "    \"\"\"A simple utility for plotting the results\"\"\"\n",
        "    fig = plt.figure(figsize=figure_size)\n",
        "    for i in range(len(images)):\n",
        "        fig.add_subplot(1, len(images), i + 1).set_title(titles[i])\n",
        "        _ = plt.imshow(images[i])\n",
        "        plt.axis(\"off\")\n",
        "    plt.show()"
      ]
    },
    {
      "cell_type": "code",
      "execution_count": null,
      "metadata": {
        "colab": {
          "base_uri": "https://localhost:8080/",
          "height": 49,
          "referenced_widgets": [
            "749005868adb4ac98ecc0d27f6028c1b",
            "6fd6a3c362a642938890cf5541a5875e",
            "03320de79df445f595636339a04bcf4e",
            "bec8a62524de4b6c81abf4ec513f5711",
            "cd09ccee92df47a4940f5d01a50e5a3a",
            "8901cee1bb8e454b9bc530a898e3ef60",
            "d850a4a1a5904ed5b3639abf90f6410e",
            "d1e6bfefaa6e45999922e1862122f35e",
            "87a4dbb5d7774647b5cf54db7de552c6",
            "ff1962fd593840729f0eefe6fe02e97a",
            "0b47a2290114492899a8dd623a105f99"
          ]
        },
        "id": "zIdqsPY308Br",
        "outputId": "206c1516-0eb1-4d6d-f2ff-a632dbd2cf36"
      },
      "outputs": [],
      "source": [
        "table = wandb.Table(columns=[\"Hazy-Image\", \"Predicted-Image\"])\n",
        "hazy_images = glob(\"./BLR-ML-Monthly-Meetup/test_images/*\")\n",
        "\n",
        "for hazy_image in tqdm(hazy_images):\n",
        "    input_image = Image.open(hazy_image)\n",
        "    preprocessed_input_image = preprocess_image(input_image)\n",
        "    predicted_image = model.predict(preprocessed_input_image, verbose=0)\n",
        "    table.add_data(\n",
        "        wandb.Image(hazy_image),\n",
        "        wandb.Image(postprocess_image(predicted_image)),\n",
        "    )\n",
        "\n",
        "\n",
        "wandb.log({\"Inference-Results\": table})"
      ]
    },
    {
      "cell_type": "code",
      "execution_count": null,
      "metadata": {
        "colab": {
          "base_uri": "https://localhost:8080/",
          "height": 87
        },
        "id": "25yWohXc1pZZ",
        "outputId": "ad56bbdb-8013-416c-c325-8555461cabaa"
      },
      "outputs": [],
      "source": [
        "wandb.finish()"
      ]
    },
    {
      "cell_type": "code",
      "execution_count": null,
      "metadata": {
        "id": "HdYJ6DkP101T"
      },
      "outputs": [],
      "source": []
    }
  ],
  "metadata": {
    "accelerator": "GPU",
    "colab": {
      "authorship_tag": "ABX9TyPL8C+6qc/ez0BweHGyvz5Q",
      "include_colab_link": true,
      "provenance": []
    },
    "gpuClass": "standard",
    "kernelspec": {
      "display_name": "Python 3",
      "language": "python",
      "name": "python3"
    },
    "language_info": {
      "name": "python",
      "version": "3.8.16 (default, Jan 10 2023, 15:23:34) \n[GCC 9.4.0]"
    },
    "vscode": {
      "interpreter": {
        "hash": "9ac03a0a6051494cc606d484d27d20fce22fb7b4d169f583271e11d5ba46a56e"
      }
    },
    "widgets": {
      "application/vnd.jupyter.widget-state+json": {
        "03320de79df445f595636339a04bcf4e": {
          "model_module": "@jupyter-widgets/controls",
          "model_module_version": "1.5.0",
          "model_name": "FloatProgressModel",
          "state": {
            "_dom_classes": [],
            "_model_module": "@jupyter-widgets/controls",
            "_model_module_version": "1.5.0",
            "_model_name": "FloatProgressModel",
            "_view_count": null,
            "_view_module": "@jupyter-widgets/controls",
            "_view_module_version": "1.5.0",
            "_view_name": "ProgressView",
            "bar_style": "success",
            "description": "",
            "description_tooltip": null,
            "layout": "IPY_MODEL_d1e6bfefaa6e45999922e1862122f35e",
            "max": 30,
            "min": 0,
            "orientation": "horizontal",
            "style": "IPY_MODEL_87a4dbb5d7774647b5cf54db7de552c6",
            "value": 30
          }
        },
        "0b47a2290114492899a8dd623a105f99": {
          "model_module": "@jupyter-widgets/controls",
          "model_module_version": "1.5.0",
          "model_name": "DescriptionStyleModel",
          "state": {
            "_model_module": "@jupyter-widgets/controls",
            "_model_module_version": "1.5.0",
            "_model_name": "DescriptionStyleModel",
            "_view_count": null,
            "_view_module": "@jupyter-widgets/base",
            "_view_module_version": "1.2.0",
            "_view_name": "StyleView",
            "description_width": ""
          }
        },
        "6fd6a3c362a642938890cf5541a5875e": {
          "model_module": "@jupyter-widgets/controls",
          "model_module_version": "1.5.0",
          "model_name": "HTMLModel",
          "state": {
            "_dom_classes": [],
            "_model_module": "@jupyter-widgets/controls",
            "_model_module_version": "1.5.0",
            "_model_name": "HTMLModel",
            "_view_count": null,
            "_view_module": "@jupyter-widgets/controls",
            "_view_module_version": "1.5.0",
            "_view_name": "HTMLView",
            "description": "",
            "description_tooltip": null,
            "layout": "IPY_MODEL_8901cee1bb8e454b9bc530a898e3ef60",
            "placeholder": "​",
            "style": "IPY_MODEL_d850a4a1a5904ed5b3639abf90f6410e",
            "value": "100%"
          }
        },
        "749005868adb4ac98ecc0d27f6028c1b": {
          "model_module": "@jupyter-widgets/controls",
          "model_module_version": "1.5.0",
          "model_name": "HBoxModel",
          "state": {
            "_dom_classes": [],
            "_model_module": "@jupyter-widgets/controls",
            "_model_module_version": "1.5.0",
            "_model_name": "HBoxModel",
            "_view_count": null,
            "_view_module": "@jupyter-widgets/controls",
            "_view_module_version": "1.5.0",
            "_view_name": "HBoxView",
            "box_style": "",
            "children": [
              "IPY_MODEL_6fd6a3c362a642938890cf5541a5875e",
              "IPY_MODEL_03320de79df445f595636339a04bcf4e",
              "IPY_MODEL_bec8a62524de4b6c81abf4ec513f5711"
            ],
            "layout": "IPY_MODEL_cd09ccee92df47a4940f5d01a50e5a3a"
          }
        },
        "87a4dbb5d7774647b5cf54db7de552c6": {
          "model_module": "@jupyter-widgets/controls",
          "model_module_version": "1.5.0",
          "model_name": "ProgressStyleModel",
          "state": {
            "_model_module": "@jupyter-widgets/controls",
            "_model_module_version": "1.5.0",
            "_model_name": "ProgressStyleModel",
            "_view_count": null,
            "_view_module": "@jupyter-widgets/base",
            "_view_module_version": "1.2.0",
            "_view_name": "StyleView",
            "bar_color": null,
            "description_width": ""
          }
        },
        "8901cee1bb8e454b9bc530a898e3ef60": {
          "model_module": "@jupyter-widgets/base",
          "model_module_version": "1.2.0",
          "model_name": "LayoutModel",
          "state": {
            "_model_module": "@jupyter-widgets/base",
            "_model_module_version": "1.2.0",
            "_model_name": "LayoutModel",
            "_view_count": null,
            "_view_module": "@jupyter-widgets/base",
            "_view_module_version": "1.2.0",
            "_view_name": "LayoutView",
            "align_content": null,
            "align_items": null,
            "align_self": null,
            "border": null,
            "bottom": null,
            "display": null,
            "flex": null,
            "flex_flow": null,
            "grid_area": null,
            "grid_auto_columns": null,
            "grid_auto_flow": null,
            "grid_auto_rows": null,
            "grid_column": null,
            "grid_gap": null,
            "grid_row": null,
            "grid_template_areas": null,
            "grid_template_columns": null,
            "grid_template_rows": null,
            "height": null,
            "justify_content": null,
            "justify_items": null,
            "left": null,
            "margin": null,
            "max_height": null,
            "max_width": null,
            "min_height": null,
            "min_width": null,
            "object_fit": null,
            "object_position": null,
            "order": null,
            "overflow": null,
            "overflow_x": null,
            "overflow_y": null,
            "padding": null,
            "right": null,
            "top": null,
            "visibility": null,
            "width": null
          }
        },
        "bec8a62524de4b6c81abf4ec513f5711": {
          "model_module": "@jupyter-widgets/controls",
          "model_module_version": "1.5.0",
          "model_name": "HTMLModel",
          "state": {
            "_dom_classes": [],
            "_model_module": "@jupyter-widgets/controls",
            "_model_module_version": "1.5.0",
            "_model_name": "HTMLModel",
            "_view_count": null,
            "_view_module": "@jupyter-widgets/controls",
            "_view_module_version": "1.5.0",
            "_view_name": "HTMLView",
            "description": "",
            "description_tooltip": null,
            "layout": "IPY_MODEL_ff1962fd593840729f0eefe6fe02e97a",
            "placeholder": "​",
            "style": "IPY_MODEL_0b47a2290114492899a8dd623a105f99",
            "value": " 30/30 [00:34&lt;00:00,  1.14it/s]"
          }
        },
        "cd09ccee92df47a4940f5d01a50e5a3a": {
          "model_module": "@jupyter-widgets/base",
          "model_module_version": "1.2.0",
          "model_name": "LayoutModel",
          "state": {
            "_model_module": "@jupyter-widgets/base",
            "_model_module_version": "1.2.0",
            "_model_name": "LayoutModel",
            "_view_count": null,
            "_view_module": "@jupyter-widgets/base",
            "_view_module_version": "1.2.0",
            "_view_name": "LayoutView",
            "align_content": null,
            "align_items": null,
            "align_self": null,
            "border": null,
            "bottom": null,
            "display": null,
            "flex": null,
            "flex_flow": null,
            "grid_area": null,
            "grid_auto_columns": null,
            "grid_auto_flow": null,
            "grid_auto_rows": null,
            "grid_column": null,
            "grid_gap": null,
            "grid_row": null,
            "grid_template_areas": null,
            "grid_template_columns": null,
            "grid_template_rows": null,
            "height": null,
            "justify_content": null,
            "justify_items": null,
            "left": null,
            "margin": null,
            "max_height": null,
            "max_width": null,
            "min_height": null,
            "min_width": null,
            "object_fit": null,
            "object_position": null,
            "order": null,
            "overflow": null,
            "overflow_x": null,
            "overflow_y": null,
            "padding": null,
            "right": null,
            "top": null,
            "visibility": null,
            "width": null
          }
        },
        "d1e6bfefaa6e45999922e1862122f35e": {
          "model_module": "@jupyter-widgets/base",
          "model_module_version": "1.2.0",
          "model_name": "LayoutModel",
          "state": {
            "_model_module": "@jupyter-widgets/base",
            "_model_module_version": "1.2.0",
            "_model_name": "LayoutModel",
            "_view_count": null,
            "_view_module": "@jupyter-widgets/base",
            "_view_module_version": "1.2.0",
            "_view_name": "LayoutView",
            "align_content": null,
            "align_items": null,
            "align_self": null,
            "border": null,
            "bottom": null,
            "display": null,
            "flex": null,
            "flex_flow": null,
            "grid_area": null,
            "grid_auto_columns": null,
            "grid_auto_flow": null,
            "grid_auto_rows": null,
            "grid_column": null,
            "grid_gap": null,
            "grid_row": null,
            "grid_template_areas": null,
            "grid_template_columns": null,
            "grid_template_rows": null,
            "height": null,
            "justify_content": null,
            "justify_items": null,
            "left": null,
            "margin": null,
            "max_height": null,
            "max_width": null,
            "min_height": null,
            "min_width": null,
            "object_fit": null,
            "object_position": null,
            "order": null,
            "overflow": null,
            "overflow_x": null,
            "overflow_y": null,
            "padding": null,
            "right": null,
            "top": null,
            "visibility": null,
            "width": null
          }
        },
        "d850a4a1a5904ed5b3639abf90f6410e": {
          "model_module": "@jupyter-widgets/controls",
          "model_module_version": "1.5.0",
          "model_name": "DescriptionStyleModel",
          "state": {
            "_model_module": "@jupyter-widgets/controls",
            "_model_module_version": "1.5.0",
            "_model_name": "DescriptionStyleModel",
            "_view_count": null,
            "_view_module": "@jupyter-widgets/base",
            "_view_module_version": "1.2.0",
            "_view_name": "StyleView",
            "description_width": ""
          }
        },
        "ff1962fd593840729f0eefe6fe02e97a": {
          "model_module": "@jupyter-widgets/base",
          "model_module_version": "1.2.0",
          "model_name": "LayoutModel",
          "state": {
            "_model_module": "@jupyter-widgets/base",
            "_model_module_version": "1.2.0",
            "_model_name": "LayoutModel",
            "_view_count": null,
            "_view_module": "@jupyter-widgets/base",
            "_view_module_version": "1.2.0",
            "_view_name": "LayoutView",
            "align_content": null,
            "align_items": null,
            "align_self": null,
            "border": null,
            "bottom": null,
            "display": null,
            "flex": null,
            "flex_flow": null,
            "grid_area": null,
            "grid_auto_columns": null,
            "grid_auto_flow": null,
            "grid_auto_rows": null,
            "grid_column": null,
            "grid_gap": null,
            "grid_row": null,
            "grid_template_areas": null,
            "grid_template_columns": null,
            "grid_template_rows": null,
            "height": null,
            "justify_content": null,
            "justify_items": null,
            "left": null,
            "margin": null,
            "max_height": null,
            "max_width": null,
            "min_height": null,
            "min_width": null,
            "object_fit": null,
            "object_position": null,
            "order": null,
            "overflow": null,
            "overflow_x": null,
            "overflow_y": null,
            "padding": null,
            "right": null,
            "top": null,
            "visibility": null,
            "width": null
          }
        }
      }
    }
  },
  "nbformat": 4,
  "nbformat_minor": 0
}
