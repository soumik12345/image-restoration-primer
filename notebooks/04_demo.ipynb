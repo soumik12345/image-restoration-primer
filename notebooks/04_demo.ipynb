{
  "cells": [
    {
      "attachments": {},
      "cell_type": "markdown",
      "metadata": {
        "colab_type": "text",
        "id": "view-in-github"
      },
      "source": [
        "<a href=\"https://colab.research.google.com/github/soumik12345/image-restoration-primer/blob/main/notebooks/04_demo.ipynb\" target=\"_parent\"><img src=\"https://colab.research.google.com/assets/colab-badge.svg\" alt=\"Open In Colab\"/></a>\n",
        "\n",
        "<!--- @wandbcode{tfug-kol} -->"
      ]
    },
    {
      "cell_type": "code",
      "execution_count": null,
      "metadata": {
        "id": "xikxIy8lgT1c"
      },
      "outputs": [],
      "source": [
        "!pip install -q --upgrade wandb gradio"
      ]
    },
    {
      "cell_type": "code",
      "execution_count": null,
      "metadata": {
        "id": "0BC3wHPAg0xU"
      },
      "outputs": [],
      "source": [
        "import tensorflow as tf\n",
        "from tensorflow import keras\n",
        "\n",
        "import wandb\n",
        "import gradio as gr\n",
        "\n",
        "import os\n",
        "import numpy as np\n",
        "from PIL import Image\n",
        "from glob import glob"
      ]
    },
    {
      "cell_type": "code",
      "execution_count": null,
      "metadata": {},
      "outputs": [],
      "source": [
        "# Login to Weights & Biases\n",
        "wandb.login()"
      ]
    },
    {
      "cell_type": "code",
      "execution_count": null,
      "metadata": {
        "id": "OJwPzS09hTUA"
      },
      "outputs": [],
      "source": [
        "def preprocess_image(image):\n",
        "    \"\"\"Preprocesses the image for inference.\n",
        "\n",
        "    Returns:\n",
        "        A numpy array of shape (1, height, width, 3) preprocessed for inference.\n",
        "    \"\"\"\n",
        "    image = keras.preprocessing.image.img_to_array(image)\n",
        "    image = image.astype(\"float32\") / 255.0\n",
        "    return np.expand_dims(image, axis=0)\n",
        "\n",
        "\n",
        "def postprocess_image(model_output):\n",
        "    \"\"\"Postprocesses the model output for inference.\n",
        "    \n",
        "    Returns:\n",
        "        A list of PIL.Image.Image objects postprocessed for visualization.\n",
        "    \"\"\"\n",
        "    model_output = model_output * 255.0\n",
        "    model_output = model_output.clip(0, 255)\n",
        "    image = model_output[0].reshape(\n",
        "        (np.shape(model_output)[1], np.shape(model_output)[2], 3)\n",
        "    )\n",
        "    return Image.fromarray(np.uint8(image))"
      ]
    },
    {
      "cell_type": "code",
      "execution_count": null,
      "metadata": {
        "colab": {
          "base_uri": "https://localhost:8080/",
          "height": 913
        },
        "id": "Fsk-lX4ZhZfO",
        "outputId": "5c6b0bd6-bc01-4715-d846-79ea63024d71"
      },
      "outputs": [],
      "source": [
        "def dehaze_image(wandb_project, wandb_entity, hazy_image, model_artifact_address, model_artifact_version):\n",
        "    model_artifact_address += \":\" + model_artifact_version\n",
        "    with wandb.init(project=wandb_project, entity=wandb_entity, job_type=\"demo\"):\n",
        "        artifact = wandb.use_artifact(model_artifact_address, type=\"model\")\n",
        "        model_path = artifact.download()\n",
        "        model = keras.models.load_model(model_path, compile=False)\n",
        "        preprocessed_hazy_images = preprocess_image(hazy_image)\n",
        "        prediction = postprocess_image(model.predict(preprocessed_hazy_images))\n",
        "        table = wandb.Table(columns=[\"Hazy-Image\", \"Predicted-Image\"])\n",
        "        table.add_data(wandb.Image(hazy_image), wandb.Image(prediction))\n",
        "        wandb.log({\"Demo-Table\": table})\n",
        "    return prediction\n",
        "\n",
        "\n",
        "model_artifact_versions = [\"latest\"] + [f\"v{idx}\" for idx in range(30)]\n",
        "\n",
        "demo = gr.Interface(\n",
        "    fn=dehaze_image,\n",
        "    inputs=[\n",
        "        gr.Text(value=\"image-dehazing\", label=\"WandB Project\", show_label=True),\n",
        "        gr.Text(value=\"geekyrakshit\", label=\"WandB Entity\", show_label=True),\n",
        "        \"image\",\n",
        "        gr.Dropdown(\n",
        "            choices=[\n",
        "                \"geekyrakshit/image-dehazing/denim-sea-39\",\n",
        "                \"geekyrakshit/image-dehazing/run_39nvjow7_model\",\n",
        "                \"geekyrakshit/image-dehazing/run_nj3biqvb_model\"\n",
        "            ]\n",
        "        ),\n",
        "        gr.Dropdown(choices=model_artifact_versions)\n",
        "    ],\n",
        "    outputs=\"image\",\n",
        ")\n",
        "\n",
        "demo.launch(debug=True)"
      ]
    },
    {
      "cell_type": "code",
      "execution_count": null,
      "metadata": {
        "id": "1cDcwk04h2HW"
      },
      "outputs": [],
      "source": []
    }
  ],
  "metadata": {
    "accelerator": "GPU",
    "colab": {
      "authorship_tag": "ABX9TyOInSKKt8LqHy6eDuJ3iu1B",
      "include_colab_link": true,
      "provenance": []
    },
    "gpuClass": "standard",
    "kernelspec": {
      "display_name": "Python 3",
      "language": "python",
      "name": "python3"
    },
    "language_info": {
      "name": "python",
      "version": "3.8.16 (default, Jan 10 2023, 15:23:34) \n[GCC 9.4.0]"
    },
    "vscode": {
      "interpreter": {
        "hash": "9ac03a0a6051494cc606d484d27d20fce22fb7b4d169f583271e11d5ba46a56e"
      }
    }
  },
  "nbformat": 4,
  "nbformat_minor": 0
}
